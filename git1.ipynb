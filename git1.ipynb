{
 "cells": [
  {
   "cell_type": "markdown",
   "id": "a983935b-d22e-446d-a7d9-2b20b4344afe",
   "metadata": {},
   "source": [
    "# Data Science Notebook"
   ]
  },
  {
   "cell_type": "markdown",
   "id": "a348cadd-9575-4752-b2f3-7cde8172727c",
   "metadata": {},
   "source": [
    "## Introduction\n",
    "\n",
    "Welcome to this Data Science Notebook!"
   ]
  },
  {
   "cell_type": "markdown",
   "id": "3c53e44a-35d7-4324-befd-c0ec2ad6cbd6",
   "metadata": {},
   "source": [
    "## Data Science Languages\n",
    "- Python\n",
    "- R\n",
    "- SQL\n",
    "- Julia"
   ]
  },
  {
   "cell_type": "markdown",
   "id": "18bd3654-9f6a-4a4a-afe1-63e68421ca8e",
   "metadata": {},
   "source": [
    "## Data Science Libraries\n",
    "- NumPy\n",
    "- Pandas\n",
    "- Matplotlib\n",
    "- Seaborn\n",
    "- Scikit-learn\n",
    "- TensorFlow\n",
    "- Keras\n",
    "- ggplot2\n",
    "- caret\n",
    "- dplyr"
   ]
  },
  {
   "cell_type": "markdown",
   "id": "1ec30bd4-e3f0-477f-916b-6fccd2ee64cb",
   "metadata": {},
   "source": [
    "## Data Science Tools\n",
    "\n",
    "| Tool          | Description                                |\n",
    "|---------------|--------------------------------------------|\n",
    "| Jupyter       | Interactive computing environment          |\n",
    "| RStudio       | Integrated development environment for R   |\n",
    "| Spyder        | Scientific Python development environment  |\n",
    "| Anaconda      | Distribution of Python and R packages      |\n",
    "| Git           | Version control system                     |\n",
    "| GitHub        | Platform for hosting and sharing code      |\n",
    "| Docker        | Containerization platform                  |\n",
    "| Tableau       | Data visualization tool                    |\n",
    "| SQL Server    | Relational database management system      |\n",
    "| Apache Hadoop | Distributed storage and processing system  |\n"
   ]
  },
  {
   "cell_type": "markdown",
   "id": "50866f01-1cad-40a3-84cd-b495a7c95e1d",
   "metadata": {},
   "source": [
    "## Arithmetic Expression Examples\n",
    "Let's explore some examples of arithmetic expressions using Python."
   ]
  },
  {
   "cell_type": "code",
   "execution_count": null,
   "id": "60dff0f6-2f46-44fc-b411-0ef3aeabdde0",
   "metadata": {},
   "outputs": [],
   "source": [
    "# Multiply and add numbers\n",
    "a = 5\n",
    "b = 3\n",
    "multiply_result = a * b\n",
    "add_result = a + b\n",
    "\n",
    "multiply_result, add_result"
   ]
  },
  {
   "cell_type": "code",
   "execution_count": null,
   "id": "d1fe9bcd-60eb-4a21-8f21-a1f85102005e",
   "metadata": {},
   "outputs": [],
   "source": [
    "# Convert minutes to hours\n",
    "minutes = 120\n",
    "hours = minutes / 60\n",
    "\n",
    "hours"
   ]
  },
  {
   "cell_type": "markdown",
   "id": "b9df5986-fde3-495e-979a-7ab02448ad02",
   "metadata": {},
   "source": [
    "## Objectives\n",
    "- Explore various data science concepts\n",
    "- Learn how to use popular data science tools and libraries\n",
    "- Practice coding examples and exercises"
   ]
  },
  {
   "cell_type": "markdown",
   "id": "4111f3e7-616c-4cf5-bc05-61d1a895ed79",
   "metadata": {},
   "source": [
    "## Author\n",
    "\n",
    "- Name\n"
   ]
  },
  {
   "cell_type": "code",
   "execution_count": null,
   "id": "bee01789-1eb4-4592-a56b-1ee22957b320",
   "metadata": {},
   "outputs": [],
   "source": []
  }
 ],
 "metadata": {
  "kernelspec": {
   "display_name": "Python 3 (ipykernel)",
   "language": "python",
   "name": "python3"
  },
  "language_info": {
   "codemirror_mode": {
    "name": "ipython",
    "version": 3
   },
   "file_extension": ".py",
   "mimetype": "text/x-python",
   "name": "python",
   "nbconvert_exporter": "python",
   "pygments_lexer": "ipython3",
   "version": "3.10.8"
  }
 },
 "nbformat": 4,
 "nbformat_minor": 5
}
